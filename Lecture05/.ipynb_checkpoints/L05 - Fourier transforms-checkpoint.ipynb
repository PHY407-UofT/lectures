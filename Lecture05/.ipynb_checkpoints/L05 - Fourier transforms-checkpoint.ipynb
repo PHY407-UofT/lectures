{
 "cells": [
  {
   "cell_type": "markdown",
   "metadata": {
    "slideshow": {
     "slide_type": "skip"
    }
   },
   "source": [
    "**Author: Nico Grisouard, nicolas.grisouard@physics.utoronto.ca**\n",
    "\n",
    "*Supporting textbook chapters for week 5: Chapter 7.*"
   ]
  },
  {
   "cell_type": "markdown",
   "metadata": {
    "slideshow": {
     "slide_type": "slide"
    }
   },
   "source": [
    "**Lecture 5, topics:**\n",
    "* Discrete Fourier Transforms (DFTs)\n",
    "* Fast Fourier Transforms (FFTs)"
   ]
  },
  {
   "cell_type": "markdown",
   "metadata": {
    "slideshow": {
     "slide_type": "slide"
    }
   },
   "source": [
    "# Fourier series: reminders\n",
    "\n",
    "We can express a periodic function on an interval $[0, L]$ as a Fourier series.\n",
    "$$f(x) = \\sum_{k=0}^{\\infty}\\left[\\alpha_k \\cos\\left(\\frac{2\\pi k x}{L}\\right) + \\beta_k\\sin\\left(\\frac{2\\pi k x}{L}\\right)\\right]$$\n",
    "$$= \\sum_{k=-\\infty}^{\\infty}\\gamma_k \\exp\\left(i\\frac{2\\pi k x}{L}\\right),\\qquad\\qquad\\quad $$\n",
    "with \n",
    "$$\\gamma_k = \\frac12\\left(\\alpha_{-k} + i\\beta_{-k}\\right)\\quad \\text{if}\\quad k<0,$$\n",
    "$$\\gamma_k = 0 \\quad\\qquad\\qquad\\quad \\text{if}\\quad k=0,$$\n",
    "$$\\gamma_k = \\frac12\\left(\\alpha_{k} - i\\beta_{k}\\right)\\quad\\quad \\text{if}\\quad k>0,$$\n",
    "and\n",
    "$$\\forall k, \\quad \\gamma_k = \\frac1L\\int_0^L f(x)\\exp\\left(-i\\frac{2\\pi k x}{L}\\right)dx\\quad \\text{from orthogonality of sin functions}.$$"
   ]
  },
  {
   "cell_type": "markdown",
   "metadata": {
    "slideshow": {
     "slide_type": "subslide"
    }
   },
   "source": [
    "Orthogonality of the sine functions:\n",
    "$$\\int_0^L\\sin\\left(\\frac{\\pi n x}{L}\\right)\\sin\\left(\\frac{\\pi m x}{L}\\right)dx = \\frac{L}2 \\delta_{nm},$$\n",
    "$$\\int_0^L\\cos\\left(\\frac{\\pi n x}{L}\\right)\\cos\\left(\\frac{\\pi m x}{L}\\right)dx = \\frac{L}2 \\delta_{nm},$$\n",
    "$$\\int_0^L\\sin\\left(\\frac{\\pi n x}{L}\\right)\\cos\\left(\\frac{\\pi m x}{L}\\right)dx= 0$$"
   ]
  },
  {
   "cell_type": "markdown",
   "metadata": {
    "slideshow": {
     "slide_type": "subslide"
    }
   },
   "source": [
    "Even for non-periodic functions, we can repeat the function over the portion of interest and discard the rest.\n",
    "Below are two pictures, one representing a plucked string, and the other representing the same from, as if it was part of a bigger, infinitely periodic function."
   ]
  },
  {
   "cell_type": "markdown",
   "metadata": {
    "slideshow": {
     "slide_type": "-"
    }
   },
   "source": [
    "Here is Newman's take on it:\n",
    "![Newman's fig. 7.1](fig7-1.png)"
   ]
  },
  {
   "cell_type": "markdown",
   "metadata": {
    "slideshow": {
     "slide_type": "slide"
    }
   },
   "source": [
    "# Discrete Fourier Transform\n",
    "\n",
    "## Principle\n",
    "\n",
    "* Now let's think about the integral used for obtaining the $\\gamma_k$'s.\n",
    "* We divide $[0, L]$ up into $N$ segments and use the trapezoidal rule and periodicity of the function:\n",
    "\n",
    "\\begin{align*}\n",
    "\\gamma_k & = \\frac1L \\int_0^L f(x)\\exp\\left(-i\\frac{2\\pi k x}{L}\\right) dx \\\\\n",
    "         & \\approx \\frac1L \\frac{L}N\\left[\\frac12 f(0) + \\frac12 f(L) + \\sum_{n=1}^{N-1} f(x_n) \\exp\\left(-i\\frac{2\\pi k x_n}{L}\\right) \\right] \\\\\n",
    "         & = \\frac1N \\left[\\sum_{n=0}^{N-1} f(x_n) \\exp\\left(-i\\frac{2\\pi k x_n}{L}\\right) \\right] \\quad \\text{because }f(0) = f(L)\n",
    "\\end{align*}"
   ]
  },
  {
   "cell_type": "markdown",
   "metadata": {
    "slideshow": {
     "slide_type": "subslide"
    }
   },
   "source": [
    "* Now define the Discrete Fourier Transform (DFT) as follows:\n",
    "$$y_k = f(x_k); \\qquad c_k = N\\gamma_k;$$\n",
    "\\begin{align*}\n",
    "\\text{DFT:}&\\quad c_k = \\sum_{n=0}^{N-1}y_n \\exp\\left(-i\\frac{2\\pi kn}{N}\\right) \\Rightarrow c_k = c_{N-k}^* \\text{ for }y(x)\\in \\mathbb{R}.\\\\\n",
    "\\text{iDFT:}&\\quad y_n = \\frac1N \\sum_{k=0}^{N-1}c_k \\exp\\left(i\\frac{2\\pi kn}{N}\\right).\n",
    "\\end{align*}\n",
    "\n",
    "* The inverse DFT follows from the definition of the DFT and properties of exponential sums."
   ]
  },
  {
   "cell_type": "markdown",
   "metadata": {},
   "source": [
    "Note how \n",
    "$$\\text{DFT:} \\quad c_k = \\sum_{n=0}^{N-1} y_n \\exp\\left(-i\\frac{2\\pi k n}{N}\\right)$$ \n",
    "$$\\Rightarrow c_k = c_{N-k}^* \\text{ for }y(x)\\in \\mathbb{R}.$$\n",
    "\n",
    "* If $y(x)\\in \\mathbb{R}$, then we only need $N/2 + 1$ ($N$ even) or $(N+1)/2$ ($N$ odd) points to actually know the DFT.\n",
    "* Python's `N//2+1` will give you this number."
   ]
  },
  {
   "cell_type": "code",
   "execution_count": 11,
   "metadata": {
    "slideshow": {
     "slide_type": "subslide"
    }
   },
   "outputs": [
    {
     "name": "stdout",
     "output_type": "stream",
     "text": [
      "N//2+1 = 2\n"
     ]
    }
   ],
   "source": [
    "N = 3\n",
    "print('N//2+1 = ' + str(N//2 + 1))"
   ]
  },
  {
   "cell_type": "markdown",
   "metadata": {
    "slideshow": {
     "slide_type": "subslide"
    }
   },
   "source": [
    "## An implementation of the DFT\n",
    "\n",
    "See the script `dft_ts.py`, adapted from Newman's online material."
   ]
  },
  {
   "cell_type": "code",
   "execution_count": null,
   "metadata": {
    "slideshow": {
     "slide_type": "subslide"
    }
   },
   "outputs": [],
   "source": [
    "# %load dft_ts.py\n",
    "# Adapted from Newman's dft script\n",
    "import numpy as np\n",
    "import pylab as plt\n",
    "\n",
    "def dft(y):\n",
    "    N = len(y)\n",
    "    c = np.zeros(N//2+1, complex)\n",
    "    for k in range(N//2+1):\n",
    "        for n in range(N):\n",
    "            c[k] += y[n]*np.exp(-2j*np.pi*k*n/N)\n",
    "    return c"
   ]
  },
  {
   "cell_type": "code",
   "execution_count": null,
   "metadata": {
    "slideshow": {
     "slide_type": "subslide"
    }
   },
   "outputs": [],
   "source": [
    "y = plt.loadtxt(\"pitch.txt\",float)\n",
    "plt.subplot(211)\n",
    "plt.plot(y)\n",
    "plt.title('pitch timeseries')\n",
    "plt.grid()\n",
    "\n",
    "c = dft(y)\n",
    "plt.subplot(212)\n",
    "plt.plot(abs(c))\n",
    "plt.title('amplitude of Fourier coefficients')\n",
    "plt.xlim(0, 500)\n",
    "plt.grid()\n",
    "\n",
    "plt.tight_layout()\n",
    "plt.savefig('timeseries.png', dpi = 100)\n",
    "plt.close()"
   ]
  },
  {
   "cell_type": "markdown",
   "metadata": {
    "slideshow": {
     "slide_type": "subslide"
    }
   },
   "source": [
    "![The physical signal (top) and its DFT (bottom)](timeseries.png)"
   ]
  },
  {
   "cell_type": "markdown",
   "metadata": {
    "slideshow": {
     "slide_type": "slide"
    }
   },
   "source": [
    "# Fast Fourier Transforms\n",
    "\n",
    "## Can we speed up the DFT?\n",
    "\n",
    "$$\\text{Recall}\\qquad c_k = \\sum_{n=0}^{N-1} y_n \\exp\\left(-i\\frac{2\\pi k n}{N}\\right) $$\n",
    "\n",
    "* The `dft` snippet below requires $O(N^2)$ operations."
   ]
  },
  {
   "cell_type": "code",
   "execution_count": null,
   "metadata": {
    "slideshow": {
     "slide_type": "-"
    }
   },
   "outputs": [],
   "source": [
    "for k in range(N//2+1):\n",
    "    for n in range(N):\n",
    "        c[k] += y[n]*np.exp(-2j*np.pi*k*n/N)"
   ]
  },
  {
   "cell_type": "markdown",
   "metadata": {
    "slideshow": {
     "slide_type": "-"
    }
   },
   "source": [
    "* To run a billion operations, $N \\sim 32,\\!000$: too few to be practical.\n",
    "* The Fast Fourier Transform (FFT) overcomes this (Cooley & Tukey in 1960’s, first found by Gauss in 1805)."
   ]
  },
  {
   "cell_type": "markdown",
   "metadata": {
    "slideshow": {
     "slide_type": "subslide"
    }
   },
   "source": [
    "## FFTs divide and conquer\n",
    "\n",
    "Assume $N=2^m$ (other prime numbers in the decomposition are possible, but they will slow down the execution).\n",
    "$$\\text{Split}\\qquad c_k = \\sum_{n=0}^{N-1} y_n \\exp\\left(-i\\frac{2\\pi k n}{N}\\right) = E_k + \\omega O_k,$$\n",
    "with \n",
    "\\begin{align*}\n",
    "E_k & = \\sum_{p=0}^{N/2-1} y_{2p} \\exp\\left(-i\\frac{2 p\\pi k }{N/2}\\right)\\quad \\text{the even indices,}\\\\\n",
    "O_k & = \\sum_{p=0}^{N/2-1} y_{2p+1} \\exp\\left(-i 2p\\frac{\\pi k}{N/2}\\right)\\quad \\text{the odd indices, and}\\\\\n",
    "\\omega & = \\text e^{-i2\\pi k/N}\\quad \\text{the \"twiddle factor\"}.\n",
    "\\end{align*}"
   ]
  },
  {
   "cell_type": "markdown",
   "metadata": {
    "slideshow": {
     "slide_type": "subslide"
    }
   },
   "source": [
    "$$\\text{Split}\\qquad c_k = \\sum_{n=0}^{N-1} y_n \\exp\\left(-i\\frac{2\\pi k n}{N}\\right) = E_k + \\omega O_k,$$\n",
    "* $E_k$ and $O_k$ represent DFTs over points sampled twice as far apart as the original interval.\n",
    "* If we stopped here: \\# of operations would be $2\\times (N/2)^2 + 2 \\approx N^2/2$ + 2 (bisection + twiddle factor): **a lot less operations for large N!**.\n",
    "* keep going: $E_k$ and $O_k$ can be split in two (bisected) themselves.\n",
    "* If $N = 2^M$, after $M = \\log_2(N)$ bisections, we get $N$ DFTs of a single sample:\n",
    "$$c_0 =  \\sum_{n=0}^{1-1}y_n\\text e^{-i 2\\pi k n/N} = y_0,$$\n",
    "the value at the sample point!"
   ]
  },
  {
   "cell_type": "markdown",
   "metadata": {
    "slideshow": {
     "slide_type": "subslide"
    }
   },
   "source": [
    "So, you actually go back:\n",
    "* take all sample points: that's the 1st set of samples.\n",
    "* pair them according to the last FFT bisection in the process above,\n",
    "* multiply the odd pairs by appropriate twiddle factors,\n",
    "* use these results to work the next set of samples."
   ]
  },
  {
   "cell_type": "markdown",
   "metadata": {
    "slideshow": {
     "slide_type": "subslide"
    }
   },
   "source": [
    "![Decimation in time of a length-N DFT into two length-N/2 DFTs followed by a combining stage (By Virens, CC BY 3.0  (https://creativecommons.org/licenses/by/3.0), from Wikimedia Commons).](DIT-FFT-butterfly.png)"
   ]
  },
  {
   "cell_type": "markdown",
   "metadata": {
    "slideshow": {
     "slide_type": "subslide"
    }
   },
   "source": [
    "* $j$-th set of samples at the $m$-th stage:\n",
    "$$E_k^{(m,j)} = \\sum_{p=0}^{N/2^m - 1}y_{2^m p + j}\\exp\\left(-i\\frac{2\\pi k p}{N/2^m}\\right),\\quad j \\in \\{0\\dots 2^m-1\\}$$\n",
    "Note: all $E_k$ and $O_k$ of previous slides are now some $E_k^{(m, j)}$.\n",
    "* $2^m = $ \\# of FTs at each level (indexed by $j$),\n",
    "* $N/2^m = $ \\# of samples per intermediate FT (indexed by $k$),\n",
    "* Recursively, working from $M = \\log_2 N$:\n",
    "    * First step: $E_k^{(M, j)} = y_j$ (no $k$ dependence), **ops:** $N$\n",
    "    * Next steps: $E_k^{(m, j)} = E_k^{(m+1, j)} + \\omega^{2^m k}E_k^{(m+1, j+2^m)}$, **ops:** $N/2^m \\times 2^m = N$\n",
    "    * Last step: $E_k^{(0, 0)} = c_k$, the desired DFT coefficients. **ops:** $N \\times 1 = N$\n",
    "\n"
   ]
  },
  {
   "cell_type": "markdown",
   "metadata": {
    "slideshow": {
     "slide_type": "subslide"
    }
   },
   "source": [
    "* We end up with $N$ terms in each of the $\\log_2 N$ bisections, so the number of operations is $N\\log_2 N$.\n",
    "* Huge speed increase for large $N$\n",
    "* For $N=10^6$, old DFT algorithm is $O(N^2) = 10^{12}$ ops, but FFT is $O(N\\log_2 N) \\sim 2 \\times 10^7$ ops.\n",
    "* Opens door to a wide range of calculations.\n",
    "* Note that the same reasoning applies to the inverse FT: the algorithm is called the inverse FFT (iFFT).\n",
    "* You can write your own FFT (see Exercise 7.7).\n",
    "* But there are good tricks for saving memory that are implemented in packages like `numpy.fft`:\n",
    "\n",
    "https://docs.scipy.org/doc/numpy-1.13.0/reference/routines.fft.html\n",
    "\n",
    "* For this lab, we will be using FFTs to calculate DFTs."
   ]
  },
  {
   "cell_type": "markdown",
   "metadata": {
    "slideshow": {
     "slide_type": "subslide"
    }
   },
   "source": [
    "See script `fft_ts.py`, which is derived from `dft_ts.py`."
   ]
  },
  {
   "cell_type": "code",
   "execution_count": null,
   "metadata": {
    "slideshow": {
     "slide_type": "subslide"
    }
   },
   "outputs": [],
   "source": [
    "# %load fft_ts.py\n",
    "# various exercises with dft and fft\n",
    "import numpy as np\n",
    "import pylab as plt\n",
    "from numpy.fft import rfft, irfft\n",
    "from time import time\n",
    "\n",
    "pi = np.pi\n",
    "# function to calculate the dft\n",
    "\n",
    "\n",
    "def dft(y):\n",
    "    N = len(y)\n",
    "    c = np.zeros(N//2+1, complex)\n",
    "    for k in range(N//2+1):\n",
    "        for n in range(N):\n",
    "            c[k] += y[n]*np.exp(-2j*pi*k*n/N)\n",
    "    return c"
   ]
  },
  {
   "cell_type": "code",
   "execution_count": null,
   "metadata": {
    "slideshow": {
     "slide_type": "subslide"
    }
   },
   "outputs": [],
   "source": [
    "# plot time series and dft\n",
    "y = plt.loadtxt(\"pitch.txt\", float)\n",
    "\n",
    "plt.figure(1, figsize=(8, 10))\n",
    "plt.subplot(3, 1, 1)\n",
    "plt.plot(y)\n",
    "plt.title('pitch timeseries')\n",
    "plt.grid()\n",
    "\n",
    "dft_time = time()\n",
    "c = dft(y)\n",
    "dft_time = time() - dft_time\n",
    "\n",
    "plt.subplot(3, 1, 2)\n",
    "plt.plot(abs(c))\n",
    "plt.title('amplitude of Fourier coefficients')\n",
    "plt.xlim(0, 500)\n",
    "plt.grid()\n",
    "\n",
    "# ------------------\n",
    "# now do it again with FFT\n",
    "fft_time = time()\n",
    "c2 = rfft(y)\n",
    "fft_time = time() - fft_time\n",
    "\n",
    "# compare home made dft with fft performance\n",
    "print('dft time {0:10.2e} and fft time {1:10.2e}'.format(dft_time, fft_time))\n",
    "\n",
    "# plot\n",
    "plt.subplot(3, 1, 3)\n",
    "plt.plot(abs(c2))\n",
    "plt.title('amplitude of Fourier coefficients using FFT')\n",
    "plt.xlim(0, 500)\n",
    "plt.grid()\n",
    "\n",
    "plt.tight_layout()\n",
    "\n",
    "print('maximum  |c2-c|: ', max(abs(c2-c)))"
   ]
  },
  {
   "cell_type": "code",
   "execution_count": null,
   "metadata": {
    "slideshow": {
     "slide_type": "subslide"
    }
   },
   "outputs": [],
   "source": [
    "# now do things with proper time dimensions and filter out desired frequencies\n",
    "# sampling frequency for audio signal\n",
    "f = 44100.0  # Hz\n",
    "# related temporal sample\n",
    "dt = 1/f  # s\n",
    "# length of vector\n",
    "N = len(y)\n",
    "# length of interval\n",
    "T = N*dt\n",
    "# convert to (angular) frequency\n",
    "freq = np.arange(N/2+1)*2*pi/T\n",
    "# dimensional time axis\n",
    "t = np.arange(N)*dt\n",
    "# sort on maximum frequency\n",
    "MaxFreqs = np.argsort(abs(c2)**2)  # get indexes of largest three frequencies\n",
    "MaxFreqs = MaxFreqs[-1:-4:-1]  # retain only top three\n",
    "print('top three frequencies and their amplitudes:')\n",
    "print('{0:10.2f} {1:10.2f} {2:10.2f} Hz'.format(\n",
    "    freq[MaxFreqs[0]]/(2*pi),\n",
    "    freq[MaxFreqs[1]]/(2*pi),\n",
    "    freq[MaxFreqs[2]]/(2*pi)))\n",
    "print('{0:10.2f} {1:10.2f} {2:10.2f}'.format(\n",
    "    abs(c2[MaxFreqs[0]]), abs(c2[MaxFreqs[1]]), abs(c2[MaxFreqs[2]])))\n",
    "\n",
    "# create a filtered array\n",
    "c2_filt = np.copy(c2[:])\n",
    "# zero out desired indices\n",
    "c2_filt[MaxFreqs] = 0.0\n",
    "# transform back to time domain\n",
    "y_filt = irfft(c2_filt)\n",
    "\n",
    "# now plot things dimensionally\n",
    "plt.figure(2, figsize=(10, 10))\n",
    "plt.subplot(2, 1, 1)\n",
    "plt.plot(t, y, t, y_filt)\n",
    "plt.xlabel('t(s)')\n",
    "plt.title('pitch timeseries')\n",
    "plt.grid()\n",
    "\n",
    "plt.subplot(2, 1, 2)\n",
    "plt.plot(freq/(2*pi), abs(c2), freq/(2*pi), abs(c2_filt))\n",
    "plt.title('amplitude of fourier coefficients')\n",
    "plt.xlim((0, 3600))\n",
    "plt.xlabel('f (Hz)')\n",
    "plt.grid()\n",
    "\n",
    "plt.tight_layout()\n",
    "plt.show()\n",
    "plt.savefig('filtering_lab5.pdf')"
   ]
  },
  {
   "cell_type": "code",
   "execution_count": null,
   "metadata": {
    "slideshow": {
     "slide_type": "subslide"
    }
   },
   "outputs": [],
   "source": [
    "\n",
    "\n",
    "plt.figure(3)\n",
    "# let's plot the cleaned up time series too - just for fun\n",
    "plt.plot(t, y-y_filt)\n",
    "plt.xlabel('t(s)')\n",
    "plt.title('pitch timeseries after removing lower amplitude signals')\n",
    "plt.grid()"
   ]
  },
  {
   "cell_type": "markdown",
   "metadata": {
    "slideshow": {
     "slide_type": "slide"
    }
   },
   "source": [
    "# 2D DFTs\n",
    "\n",
    "* Suppose we have a sample grid that is $M \\times N$ with sample values $y_{mn}$.\n",
    "* The 2D DFT works as follows:"
   ]
  },
  {
   "cell_type": "markdown",
   "metadata": {
    "slideshow": {
     "slide_type": "fragment"
    }
   },
   "source": [
    "* Fourier transform the $M$ rows:\n",
    "$$c'_{m\\ell} = \\sum_{n=0}^{N-1}y_{mn}\\exp\\left(-i\\frac{2\\pi \\ell n}{N}\\right)$$"
   ]
  },
  {
   "cell_type": "markdown",
   "metadata": {
    "slideshow": {
     "slide_type": "fragment"
    }
   },
   "source": [
    "Fourier transform the $N$ cols to get 2D DFT:\n",
    "$$c_{k\\ell} = \\sum_{m=0}^{M-1}c'_{m\\ell}\\exp\\left(-i\\frac{2\\pi km}{M}\\right) = \\sum_{k=0}^{M-1}\\sum_{n=0}^{N-1} y_{mn} \\exp\\left[-i 2\\pi\\left(\\frac{km}{M} + \\frac{\\ell n}{N}\\right)\\right].$$"
   ]
  },
  {
   "cell_type": "markdown",
   "metadata": {
    "slideshow": {
     "slide_type": "subslide"
    }
   },
   "source": [
    "Inverse 2D DFT:\n",
    "$$y_{mn} = \\frac{1}{MN}\\sum_{k=0}^{M-1}\\sum_{\\ell=0}^{N-1}c_{kl}\\exp\\left[i 2\\pi\\left(\\frac{km}{N} + \\frac{\\ell n}{N}\\right)\\right].$$"
   ]
  }
 ],
 "metadata": {
  "celltoolbar": "Slideshow",
  "kernelspec": {
   "display_name": "Python [default]",
   "language": "python",
   "name": "python3"
  },
  "language_info": {
   "codemirror_mode": {
    "name": "ipython",
    "version": 3
   },
   "file_extension": ".py",
   "mimetype": "text/x-python",
   "name": "python",
   "nbconvert_exporter": "python",
   "pygments_lexer": "ipython3",
   "version": "3.5.6"
  }
 },
 "nbformat": 4,
 "nbformat_minor": 2
}
