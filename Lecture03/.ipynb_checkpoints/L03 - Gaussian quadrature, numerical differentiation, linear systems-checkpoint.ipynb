{
 "cells": [
  {
   "cell_type": "markdown",
   "metadata": {
    "slideshow": {
     "slide_type": "skip"
    }
   },
   "source": [
    "**Author: Nico Grisouard, nicolas.grisouard@physics.utoronto.ca**\n",
    "\n",
    "*Supporting textbook chapters for week 3: 5.5, 5.6, *"
   ]
  },
  {
   "cell_type": "markdown",
   "metadata": {
    "slideshow": {
     "slide_type": "slide"
    }
   },
   "source": [
    "**Lecture 3, topics:**\n",
    "* Integration by Gaussian quadrature\n",
    "* Numerical differentiation\n",
    "* Intro to solving linear systems"
   ]
  },
  {
   "cell_type": "markdown",
   "metadata": {
    "slideshow": {
     "slide_type": "slide"
    }
   },
   "source": [
    "# Numerical integration\n",
    "\n",
    "* Think of integrals as areas under curves.\n",
    "* Approximate these areas in terms of simple shapes (rectangles, trapezoids, rectangles with parabolic tops)\n",
    "\n",
    "![From Newman, composite of figs. 5.1 and 5.2.](../Lecture02/RecTrapSimp.png)\n",
    "\n",
    "## Trapezoidal rule\n",
    "\n",
    "## Simpson's rule"
   ]
  },
  {
   "cell_type": "markdown",
   "metadata": {
    "slideshow": {
     "slide_type": "subslide"
    }
   },
   "source": [
    "## Newton-Cotes formulas\n",
    "\n",
    "### General idea\n",
    "\n",
    "Trapezoid and Simpson's Rules are part of a more general set of integration rules:\n",
    "* Break your interval into small equal sub-intervals,\n",
    "* approximate your function by a polynomial of some degree, e.g. \n",
    "    * 0 for mid-point rule (that's just summing all elements and multiplying by $h$)\n",
    "    * 1 for Trapz,\n",
    "    * 2 for Simpson\n",
    "on that sub-interval.\n",
    "* this class of methods leads to Newton-Cotes (N-C) formulas."
   ]
  },
  {
   "cell_type": "markdown",
   "metadata": {
    "slideshow": {
     "slide_type": "subslide"
    }
   },
   "source": [
    "* All Newton-Cotes formulas can be written in the form:\n",
    "$$\\int_a^b f(x) dx \\approx \\sum_{k=1}^{N+1} w_k f(x_k).$$\n",
    "* $w_k$: \"weights\".\n",
    "* $x_k$: \"sample points\". Notice above we are using $N+1$ points ($N$ slices) to sample.\n",
    "* N-C formulas of degree $N$: exact for polynomials of degree $N$ (which require $N+1$ points to determine)\n",
    "* For N-C formulas, the sample points are **evenly spaced**."
   ]
  },
  {
   "cell_type": "markdown",
   "metadata": {},
   "source": [
    "### Examples"
   ]
  },
  {
   "cell_type": "markdown",
   "metadata": {
    "slideshow": {
     "slide_type": "subslide"
    }
   },
   "source": [
    "* All Newton-Cotes formulas can be written in the form:\n",
    "$$\\int_a^b f(x) dx \\approx \\sum_{k=1}^{N+1} w_k f(x_k).$$\n",
    "\n",
    "**Example: trapezoidal rule**\n",
    "$$I(a, b) = h\\left[\\frac12 f(a) + \\frac12f(b) + \\sum_{k=1}^{N-1} f(a+kh)\\right].$$\n",
    "\n",
    "* weights:\n",
    "    * $w_k = h/2$ for $k=1$ or $N+1$,\n",
    "    * $w_k = h$ otherwise."
   ]
  },
  {
   "cell_type": "markdown",
   "metadata": {
    "slideshow": {
     "slide_type": "subslide"
    }
   },
   "source": [
    "* All Newton-Cotes formulas can be written in the form:\n",
    "$$\\int_a^b f(x) dx \\approx \\sum_{k=1}^{N+1} w_k f(x_k).$$\n",
    "\n",
    "**Example: Simpson's rule**\n",
    "$$I(a,b) = \\frac{h}3\\left[f(a) + f(b) + 4\\sum_{\\substack{k\\ odd\\\\ 1\\dots{}N}}f(a+kh) + 2\\sum_{\\substack{k\\ even \\\\ 2\\dots{}N-1}}f(a+kh)\\right].$$\n",
    "\n",
    "* weights:\n",
    "    * $w_k = h/3$ for $k=1$ or $N+1$,\n",
    "    * $w_k = 4h/3$ for $k=2, 4,\\dots{}, N$\\ (recall: $N$ even),\n",
    "    * $w_k = h$ for $k=3, 5,\\dots{}, N-1$,"
   ]
  },
  {
   "cell_type": "markdown",
   "metadata": {
    "slideshow": {
     "slide_type": "subslide"
    }
   },
   "source": [
    "### Generalization\n",
    "\n",
    "Degree | Polynonial | Coefficients\n",
    "- | - | -\n",
    "1 (trapezoidal) | Straight line | $\\frac{1}{2}, 1, 1,\\dots, 1, \\frac{1}{2}$\n",
    "2 (Simpson) | Parabola | $\\frac13, \\frac43, \\frac23, \\frac43,\\dots, \\frac23, \\frac43, \\frac13$\n",
    "3 | Cubic | $\\frac38, \\frac98, \\frac98, \\frac34, \\frac98, \\frac98, \\frac34, \\dots, \\frac98, \\frac 39$\n",
    "4 | Quartic | $\\frac{14}{45}, \\frac{64}{45}, \\frac{8}{15}, \\frac{64}{45}, \\frac{28}{45}, \\frac{64}{45},\\dots, \\frac{64}{45}, \\frac{14}{45}$"
   ]
  },
  {
   "cell_type": "markdown",
   "metadata": {
    "slideshow": {
     "slide_type": "slide"
    }
   },
   "source": [
    "## Gaussian quadrature\n",
    "\n",
    "### Presentation\n",
    "\n",
    "Newton-Cotes:\n",
    "* had to use $N$ equally-spaced sampled points.\n",
    "* $N^{\\text{th}}$-order N-C exact for polynomial of degree $N$.\n",
    "* A $N^{\\text{th}}$-order polynomial approximates a well-behaved function better than a $(N-1)^{\\text{th}}$-order polynomial, because of the added degree of freedom.\n",
    "\n",
    "Gaussian quadrature:\n",
    "* $N$ unequally-spaced points $\\Rightarrow$ $N$ more degrees of freedom,\n",
    "* exact for $(2N-1)^{th}$-order polynomial.\n",
    "* other way to look at it: it will give the same level of accuracy as an approximation by a $(2N-1)^{th}$-order polynomial."
   ]
  },
  {
   "cell_type": "markdown",
   "metadata": {
    "slideshow": {
     "slide_type": "subslide"
    }
   },
   "source": [
    "Remarkably, there is a universal rule to choose the $w_k$ and $x_k$:\n",
    "* $x_k = $ roots of $n^{th}$ Legendre polynomial $P_N(x)$,\n",
    "* $\\displaystyle w_k = \\left[\\frac{2}{1-x^2}\\left(\\frac{dP_N}{dx}\\right)^{-2}\\right]_{x={x_k}}$."
   ]
  },
  {
   "cell_type": "markdown",
   "metadata": {
    "slideshow": {
     "slide_type": "fragment"
    }
   },
   "source": [
    "![From Newman, fig. 5.4: Sample points and weights for Gaussian quadrature. The positions and heights of the bars represent the sample points and their associated weights for Gaussian quadrature with (left) $N=10$ and (right) $N=100$.](GaussianPoints.png)"
   ]
  },
  {
   "cell_type": "markdown",
   "metadata": {
    "slideshow": {
     "slide_type": "subslide"
    }
   },
   "source": [
    "* That there is such a universal rule is beautiful in a way (see Appendix C), but in the context of this course, we'll just accept that it works.\n",
    "* Don’t even write your own program to find sample points and weights. Usually use given subroutines. We will have some practice next week on how to find them.\n",
    "* E.g. you have \n",
    "    * `gaussxw.py` for integration limits from $-1$ to $+1$,\n",
    "    * `gaussxwab.py` for integration limits from $a$ to $b$.\n",
    "* The calculation of weights and points is expensive. Use `gaussxw.py` if you are going to change the limits repeatedly (and see end of §5.6.1, pp. 167-168, for how to do)."
   ]
  },
  {
   "cell_type": "markdown",
   "metadata": {
    "slideshow": {
     "slide_type": "subslide"
    }
   },
   "source": [
    "**Pros**\n",
    "* complicated error formula, but in general: approximation error improves by a factor $c/N^2$ when you increase # of sample points by 1!\n",
    "* e.g., going form $N=10$ to $N=11$ sample points improves your estimate by a factor of $\\sim 100$ $\\Rightarrow$ converge very quickly to true value of the integral.\n",
    "\n",
    "**Cons**\n",
    "* only works well if function is reasonably smooth (since sample points are farther apart),\n",
    "* really hard to get an accurate estimate of the error, if needed."
   ]
  },
  {
   "cell_type": "markdown",
   "metadata": {},
   "source": [
    "### Example:\n",
    "\n"
   ]
  },
  {
   "cell_type": "code",
   "execution_count": null,
   "metadata": {},
   "outputs": [],
   "source": []
  }
 ],
 "metadata": {
  "celltoolbar": "Slideshow",
  "kernelspec": {
   "display_name": "Python 3",
   "language": "python",
   "name": "python3"
  },
  "language_info": {
   "codemirror_mode": {
    "name": "ipython",
    "version": 3
   },
   "file_extension": ".py",
   "mimetype": "text/x-python",
   "name": "python",
   "nbconvert_exporter": "python",
   "pygments_lexer": "ipython3",
   "version": "3.6.5"
  }
 },
 "nbformat": 4,
 "nbformat_minor": 2
}
