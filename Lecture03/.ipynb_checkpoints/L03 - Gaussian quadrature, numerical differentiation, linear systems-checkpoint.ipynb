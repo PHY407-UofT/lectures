{
 "cells": [
  {
   "cell_type": "markdown",
   "metadata": {
    "slideshow": {
     "slide_type": "skip"
    }
   },
   "source": [
    "**Author: Nico Grisouard, nicolas.grisouard@physics.utoronto.ca**\n",
    "\n",
    "*Supporting textbook chapters for week 3: 5.5, 5.6, 5.10*"
   ]
  },
  {
   "cell_type": "markdown",
   "metadata": {
    "slideshow": {
     "slide_type": "slide"
    }
   },
   "source": [
    "**Lecture 3, topics:**\n",
    "* Integration by Gaussian quadrature\n",
    "* Numerical differentiation"
   ]
  },
  {
   "cell_type": "markdown",
   "metadata": {
    "slideshow": {
     "slide_type": "slide"
    }
   },
   "source": [
    "# Numerical integration\n",
    "\n",
    "* Think of integrals as areas under curves.\n",
    "* Approximate these areas in terms of simple shapes (rectangles, trapezoids, rectangles with parabolic tops)\n",
    "\n",
    "![From Newman, composite of figs. 5.1 and 5.2.](../Lecture02/RecTrapSimp.png)\n",
    "\n",
    "## Trapezoidal rule\n",
    "\n",
    "## Simpson's rule"
   ]
  },
  {
   "cell_type": "markdown",
   "metadata": {
    "slideshow": {
     "slide_type": "subslide"
    }
   },
   "source": [
    "## Newton-Cotes formulas\n",
    "\n",
    "### General idea\n",
    "\n",
    "Trapezoid and Simpson's Rules are part of a more general set of integration rules:\n",
    "* Break your interval into small **equal** sub-intervals,\n",
    "* approximate your function by a polynomial of some degree, e.g. \n",
    "    * 0 for mid-point rule (that's just summing all elements and multiplying by $h$)\n",
    "    * 1 for Trapz,\n",
    "    * 2 for Simpson\n",
    "on that sub-interval.\n",
    "* this class of methods leads to Newton-Cotes (N-C) formulas."
   ]
  },
  {
   "cell_type": "markdown",
   "metadata": {
    "slideshow": {
     "slide_type": "subslide"
    }
   },
   "source": [
    "* All Newton-Cotes formulas can be written in the form:\n",
    "$$\\int_a^b f(x) dx \\approx \\sum_{k=1}^{N+1} w_k f(x_k).$$\n",
    "* $w_k$: \"weights\".\n",
    "* $x_k$: \"sample points\". Notice above we are using $N+1$ points ($N$ slices) to sample.\n",
    "* N-C formulas of degree $N$: exact for polynomials of degree $N$ (which require $N+1$ points to determine)\n",
    "* For N-C formulas, the sample points are **evenly spaced**."
   ]
  },
  {
   "cell_type": "markdown",
   "metadata": {},
   "source": [
    "### Examples"
   ]
  },
  {
   "cell_type": "markdown",
   "metadata": {
    "slideshow": {
     "slide_type": "subslide"
    }
   },
   "source": [
    "* All Newton-Cotes formulas can be written in the form:\n",
    "$$\\int_a^b f(x) dx \\approx \\sum_{k=1}^{N+1} w_k f(x_k).$$\n",
    "\n",
    "**Example: trapezoidal rule**\n",
    "$$I(a, b) = h\\left[\\frac12 f(a) + \\frac12f(b) + \\sum_{n=1}^{N-1} f(a+nh)\\right].$$\n",
    "\n",
    "* weights:\n",
    "    * $w_k = h/2$ for $k=1$ or $N+1$,\n",
    "    * $w_k = h$ otherwise."
   ]
  },
  {
   "cell_type": "markdown",
   "metadata": {
    "slideshow": {
     "slide_type": "subslide"
    }
   },
   "source": [
    "* All Newton-Cotes formulas can be written in the form:\n",
    "$$\\int_a^b f(x) dx \\approx \\sum_{k=1}^{N+1} w_k f(x_k).$$\n",
    "\n",
    "**Example: Simpson's rule**\n",
    "$$I(a,b) = \\frac{h}3\\left[f(a) + f(b) + 4\\sum_{\\substack{n\\ odd\\\\ 1\\dots{}N}}f(a+nh) + 2\\sum_{\\substack{n\\ even \\\\ 2\\dots{}N-1}}f(a+nh)\\right].$$\n",
    "\n",
    "* weights:\n",
    "    * $w_k = h/3$ for $k=1$ or $N+1$,\n",
    "    * $w_k = 4h/3$ for $k=2, 4,\\dots{}, N$ (recall: $N$ even),\n",
    "    * $w_k = h$ for $k=3, 5,\\dots{}, N-1$,"
   ]
  },
  {
   "cell_type": "markdown",
   "metadata": {
    "slideshow": {
     "slide_type": "subslide"
    }
   },
   "source": [
    "### Generalization\n",
    "\n",
    "Degree | Polynomial | Coefficients\n",
    "- | - | -\n",
    "1 (trapezoidal) | Straight line | $\\frac{1}{2}, 1, 1,\\dots, 1, \\frac{1}{2}$\n",
    "2 (Simpson) | Parabola | $\\frac13, \\frac43, \\frac23, \\frac43,\\dots, \\frac23, \\frac43, \\frac13$\n",
    "3 | Cubic | $\\frac38, \\frac98, \\frac98, \\frac34, \\frac98, \\frac98, \\frac34, \\dots, \\frac98, \\frac 39$\n",
    "4 | Quartic | $\\frac{14}{45}, \\frac{64}{45}, \\frac{8}{15}, \\frac{64}{45}, \\frac{28}{45}, \\frac{64}{45},\\dots, \\frac{64}{45}, \\frac{14}{45}$"
   ]
  },
  {
   "cell_type": "markdown",
   "metadata": {
    "slideshow": {
     "slide_type": "slide"
    }
   },
   "source": [
    "## Gaussian quadrature\n",
    "\n",
    "### Presentation\n",
    "\n",
    "Newton-Cotes:\n",
    "* had to use $N$ equally-spaced sampled points.\n",
    "* $N^{\\text{th}}$-order N-C exact for polynomial of degree $N$.\n",
    "* A $N^{\\text{th}}$-order polynomial approximates a well-behaved function better than a $(N-1)^{\\text{th}}$-order polynomial, because of the added degree of freedom.\n",
    "\n",
    "Gaussian quadrature:\n",
    "* $N$ unequally-spaced points $\\Rightarrow$ $N$ more degrees of freedom,\n",
    "* exact for $(2N-1)^{th}$-order polynomial.\n",
    "* other way to look at it: it will give the same level of accuracy as an approximation by a $(2N-1)^{th}$-order polynomial."
   ]
  },
  {
   "cell_type": "markdown",
   "metadata": {
    "slideshow": {
     "slide_type": "subslide"
    }
   },
   "source": [
    "Remarkably, there is a universal rule to choose the $w_k$ and $x_k$:\n",
    "* $x_k = $ roots of $n^{th}$ Legendre polynomial $P_N(x)$,\n",
    "* $\\displaystyle w_k = \\left[\\frac{2}{1-x^2}\\left(\\frac{dP_N}{dx}\\right)^{-2}\\right]_{x={x_k}}$."
   ]
  },
  {
   "cell_type": "markdown",
   "metadata": {
    "slideshow": {
     "slide_type": "fragment"
    }
   },
   "source": [
    "![From Newman, fig. 5.4: Sample points and weights for Gaussian quadrature. The positions and heights of the bars represent the sample points and their associated weights for Gaussian quadrature with (left) $N=10$ and (right) $N=100$.](GaussianPoints.png)"
   ]
  },
  {
   "cell_type": "markdown",
   "metadata": {
    "slideshow": {
     "slide_type": "subslide"
    }
   },
   "source": [
    "* That there is such a universal rule is beautiful (see Appendix C), but in the context of this course, we'll just accept that it works.\n",
    "* Don’t even write your own program to find sample points and weights. Usually use given subroutines. We will have some practice next week on how to find them.\n",
    "* E.g. you have \n",
    "    * `gaussxw.py` for integration limits from $-1$ to $+1$,\n",
    "    * `gaussxwab.py` for integration limits from $a$ to $b$.\n",
    "* The calculation of weights and points is expensive. Use `gaussxw.py` if you are going to change the limits repeatedly (and see end of §5.6.1, pp. 167-168, for how to do)."
   ]
  },
  {
   "cell_type": "code",
   "execution_count": null,
   "metadata": {
    "slideshow": {
     "slide_type": "subslide"
    }
   },
   "outputs": [],
   "source": [
    "# %load gaussxw\n",
    "from pylab import *\n",
    "def gaussxw(N):\n",
    "\n",
    "    # Initial approximation to roots of the Legendre polynomial\n",
    "    a = linspace(3,4*N-1,N)/(4*N+2)\n",
    "    x = cos(pi*a+1/(8*N*N*tan(a)))\n",
    "\n",
    "    # Find roots using Newton's method\n",
    "    epsilon = 1e-15\n",
    "    delta = 1.0\n",
    "    while delta>epsilon:\n",
    "        p0 = ones(N,float)\n",
    "        p1 = copy(x)\n",
    "        for k in range(1,N):\n",
    "            p0,p1 = p1,((2*k+1)*x*p1-k*p0)/(k+1)\n",
    "        dp = (N+1)*(p0-x*p1)/(1-x*x)\n",
    "        dx = p1/dp\n",
    "        x -= dx\n",
    "        delta = max(abs(dx))\n",
    "\n",
    "    # Calculate the weights\n",
    "    w = 2*(N+1)*(N+1)/(N*N*(1-x*x)*dp*dp)\n",
    "\n",
    "    return x,w\n",
    "\n",
    "def gaussxwab(N,a,b):\n",
    "    x,w = gaussxw(N)\n",
    "    return 0.5*(b-a)*x+0.5*(b+a),0.5*(b-a)*w\n"
   ]
  },
  {
   "cell_type": "markdown",
   "metadata": {
    "slideshow": {
     "slide_type": "subslide"
    }
   },
   "source": [
    "**Pros**\n",
    "* complicated error formula, but in general: approximation error improves by a factor $c/N^2$ when you increase # of sample points by 1!\n",
    "* e.g., going form $N=10$ to $N=11$ sample points improves your estimate by a factor of $\\sim 100$ $\\Rightarrow$ converge very quickly to true value of the integral.\n",
    "\n",
    "**Cons**\n",
    "* only works well if function is reasonably smooth (since sample points are farther apart),\n",
    "* really hard to get an accurate estimate of the error, if needed."
   ]
  },
  {
   "cell_type": "markdown",
   "metadata": {
    "slideshow": {
     "slide_type": "subslide"
    }
   },
   "source": [
    "### Example:\n",
    "\n",
    "Compute $\\displaystyle \\int_{-1}^{1} \\left[x^4 + \\sin(x^2)\\right]dx$ using Gaussian quadrature.\n",
    "\n",
    "Let's see what is going on with sympy, Python's symbolic math package:"
   ]
  },
  {
   "cell_type": "code",
   "execution_count": 11,
   "metadata": {
    "slideshow": {
     "slide_type": "subslide"
    }
   },
   "outputs": [
    {
     "data": {
      "image/png": "[encoded data removed]",
      "text/plain": [
       "<Figure size 432x288 with 1 Axes>"
      ]
     },
     "metadata": {
      "needs_background": "light"
     },
     "output_type": "display_data"
    },
    {
     "data": {
      "text/plain": [
       "<sympy.plotting.plot.Plot at 0x106cfc710>"
      ]
     },
     "execution_count": 11,
     "metadata": {},
     "output_type": "execute_result"
    }
   ],
   "source": [
    "from sympy import *\n",
    "init_printing()\n",
    "x = symbols('x', real=True)\n",
    "f = x**4 + sin(x**2)\n",
    "plotting.plot(f, (x, -1, 1))"
   ]
  },
  {
   "cell_type": "code",
   "execution_count": 12,
   "metadata": {
    "slideshow": {
     "slide_type": "subslide"
    }
   },
   "outputs": [
    {
     "data": {
      "image/png": "[encoded data removed]",
      "text/latex": [
       "$$\\frac{x^{5}}{5} + \\frac{3 \\sqrt{2} \\sqrt{\\pi} S\\left(\\frac{\\sqrt{2} x}{\\sqrt{\\pi}}\\right) \\Gamma\\left(\\frac{3}{4}\\right)}{8 \\Gamma\\left(\\frac{7}{4}\\right)}$$"
      ],
      "text/plain": [
       "                     ⎛√2⋅x⎞       \n",
       " 5   3⋅√2⋅√π⋅fresnels⎜────⎟⋅Γ(3/4)\n",
       "x                    ⎝ √π ⎠       \n",
       "── + ─────────────────────────────\n",
       "5               8⋅Γ(7/4)          "
      ]
     },
     "execution_count": 12,
     "metadata": {},
     "output_type": "execute_result"
    }
   ],
   "source": [
    "# Integrate f\n",
    "integrate(f, x)"
   ]
  },
  {
   "cell_type": "code",
   "execution_count": null,
   "metadata": {
    "slideshow": {
     "slide_type": "notes"
    }
   },
   "outputs": [],
   "source": [
    "integrate(f, x)"
   ]
  },
  {
   "cell_type": "code",
   "execution_count": null,
   "metadata": {
    "slideshow": {
     "slide_type": "fragment"
    }
   },
   "outputs": [],
   "source": [
    "# from -1 to +1"
   ]
  },
  {
   "cell_type": "code",
   "execution_count": 15,
   "metadata": {},
   "outputs": [],
   "source": [
    "res=integrate(f, (x, -1, +1))"
   ]
  },
  {
   "cell_type": "code",
   "execution_count": 16,
   "metadata": {
    "slideshow": {
     "slide_type": "fragment"
    }
   },
   "outputs": [
    {
     "data": {
      "image/png": "[encoded data removed]",
      "text/latex": [
       "$$1.02053660344676$$"
      ],
      "text/plain": [
       "1.02053660344676"
      ]
     },
     "execution_count": 16,
     "metadata": {},
     "output_type": "execute_result"
    }
   ],
   "source": [
    "# Numerical evaluation\n",
    "N(res)"
   ]
  },
  {
   "cell_type": "markdown",
   "metadata": {
    "slideshow": {
     "slide_type": "subslide"
    }
   },
   "source": [
    "Now, we could do this as long as the function has an analytical expression that `sympy` (or Maple, Mathematica, Wolfram Alpha...) know how to solve.\n",
    "\n",
    "Gaussian quadrature is more reliable, let's try."
   ]
  },
  {
   "cell_type": "code",
   "execution_count": null,
   "metadata": {
    "slideshow": {
     "slide_type": "subslide"
    }
   },
   "outputs": [],
   "source": [
    "# This cell for pseudo-code\n",
    "# NOTE HOW I KEEP IT AS A SEPARATE BLOCK OF CODE\n",
    "# Load Newman's functions for gaussxw\n",
    "# Load numpy\n",
    "# define function\n",
    "# define N\n",
    "# call gausswx for xi, wi\n",
    "# initialize integral to 0.\n",
    "# loop over sample points to compute integral\n",
    "# print"
   ]
  },
  {
   "cell_type": "code",
   "execution_count": 19,
   "metadata": {
    "slideshow": {
     "slide_type": "subslide"
    }
   },
   "outputs": [
    {
     "name": "stdout",
     "output_type": "stream",
     "text": [
      "1.0205366034471288\n"
     ]
    }
   ],
   "source": [
    "# This cell for code\n",
    "# Load Newman's functions for gaussxw\n",
    "# Load numpy\n",
    "import gaussxw as gsx\n",
    "import numpy as np\n",
    "# define function\n",
    "def f(x):\n",
    "    \"\"\"lil description\"\"\"\n",
    "    return x**4 + np.sin(x**2)\n",
    "\n",
    "# define N\n",
    "N = 10\n",
    "# call gausswx for xi, wi\n",
    "x, w = gsx.gaussxw(N)\n",
    "\n",
    "# initialize integral to 0.\n",
    "I = 0.\n",
    "# loop over sample points to compute integral\n",
    "for k in range(N):\n",
    "    I += w[k]*f(x[k])\n",
    "# print\n",
    "print(I)"
   ]
  },
  {
   "cell_type": "markdown",
   "metadata": {
    "slideshow": {
     "slide_type": "slide"
    }
   },
   "source": [
    "# Numerical derivatives\n",
    "\n",
    "* Simpler than numerical integration, in  a way.\n",
    "* Computing errors is usually a doozey though.\n",
    "* Based on Taylor series approximations.\n",
    "* Use Taylor series approximations to estimate errors.\n",
    "\n",
    "\n",
    "1. Forward difference approximation: $\\displaystyle f'(x) \\approx \\frac{f(x+h) - f(x)}{h}$,\n",
    "2. Backward difference approximation: $\\displaystyle f'(x) \\approx \\frac{f(x) - f(x-h)}{h}$,\n"
   ]
  },
  {
   "cell_type": "markdown",
   "metadata": {
    "slideshow": {
     "slide_type": "subslide"
    }
   },
   "source": [
    "## Basic philosophy for error estimation\n",
    "\n",
    "Use Taylor series to find error in these approximations:\n",
    "$$ f(x+h) = f(x) + hf'(x) + \\frac{h^2}{2}f''(x) + h.o.t.$$\n",
    "Isolate for $f'(x)$:\n",
    "$$f'(x) = \\frac{f(x+h) - f(x)}{h} - \\frac{h}2 f''(x) + h.o.t.$$\n",
    "$\\Rightarrow$ error is 1st-order in $h$ (same is true for backward difference method)."
   ]
  },
  {
   "cell_type": "markdown",
   "metadata": {
    "slideshow": {
     "slide_type": "subslide"
    }
   },
   "source": [
    "## Central differences\n",
    "\n",
    "* Using Taylor series to find sneaky improvements to finite difference (FD) schemes.\n",
    "* Example: central FD method:\n",
    "$$f'(x) \\approx \\frac{f(x+h) - f(x-h)}{2h}.$$\n",
    "* Notice it still only involves subtracting 2 points, it's just that the location of the 2 points is different."
   ]
  },
  {
   "cell_type": "markdown",
   "metadata": {
    "slideshow": {
     "slide_type": "subslide"
    }
   },
   "source": [
    "* Error:\n",
    "$$f(x+h) = f(x) + hf'(x) + \\frac{h^2}{2}f''(x) + \\frac{h^3}{6}f'''(x) + h.o.t.$$\n",
    "$$f(x-h) = f(x) - hf'(x) + \\frac{h^2}{2}f''(x) - \\frac{h^3}{6}f'''(x) + h.o.t.$$"
   ]
  },
  {
   "cell_type": "markdown",
   "metadata": {},
   "source": [
    "* Substract:\n",
    "$$ f(x+h) - f(x+h) = 2hf'(x) + \\frac{h^3}{3}f'''(x) + h.o.t.$$\n",
    "* Isolate for $f'(x)$ and add:\n",
    "$$f'(x) = \\frac{f(x+h) - f(x-h)}{2h} - \\boxed{\\frac{h^2}{3}f'''(x)} + h.o.t.$$"
   ]
  },
  {
   "cell_type": "markdown",
   "metadata": {
    "slideshow": {
     "slide_type": "subslide"
    }
   },
   "source": [
    "* So we see that this formula is accurate to 2nd order in $h$.\n",
    "* Can get higher order methods by including more points (see table 5.1 on page 196).\n",
    "* Might have to do different things near the boundaries.\n",
    "* Partial derivatives: similar techniques\n",
    "* Higher order derivatives (e.g. $f''$) similar techniques."
   ]
  },
  {
   "cell_type": "markdown",
   "metadata": {
    "slideshow": {
     "slide_type": "subslide"
    }
   },
   "source": [
    "## Roundoff error, a comeback\n",
    "\n",
    "* Let’s take another look at this formula:\n",
    "$$f(x+h) = f(x) + hf'(x) + \\frac{h^2}{2}f''(x) + h.o.t.$$\n",
    "* What happens when we consider roundoff error? Recall that substracting numbers that are close is dangerous!\n",
    "* Each of the terms $f(x+h)$ and $f(x)$ have error $\\sim C|f(x)|$. Their difference will have approximate error $2Cf(x)$ (\"worst case\" error).\n",
    "* So in fact there are two sources of error and this leads to (eqn. (5.91) in book):\n",
    "$$\\epsilon = \\underbrace{\\frac{2C|f(x)|}{h}}_{\\text{round-off error}} + \\underbrace{\\frac{1}{2}h |f''(x)| + h.o.t.}_{\\text{approximation error}}$$"
   ]
  },
  {
   "cell_type": "markdown",
   "metadata": {
    "slideshow": {
     "slide_type": "subslide"
    }
   },
   "source": [
    "* Factor $1/h \\Rightarrow$ increasing $N$ could increase the error.\n",
    "* The error has a minimum when $h$ satisfies\n",
    "$$h = \\sqrt{4C\\left|\\frac{f(x)}{f''(x)}\\right|} \\qquad (5.93).$$\n",
    "(*Note: $x$ is not a variable in this discussion. $f(x)$ should be interpreted as the typical magnitude of $f$.*)\n",
    "* Example: $f(x), f''(x) = O(1) \\Rightarrow h\\sim O(\\sqrt{C}) = O(10^{-8})$. In this case, the error is $\\epsilon = O(10^{-8})$, from\n",
    "$$\\epsilon = h|f''(x)| = \\sqrt{4C \\left|f(x)f''(x)\\right|} \\qquad (5.94).$$\n",
    "* There are two points: there's a limit to the improvement you can obtain by going to finer resolution, and the precision expected on differentiation is orders of magnitude less than that of other operations we have discussed."
   ]
  }
 ],
 "metadata": {
  "celltoolbar": "Slideshow",
  "kernelspec": {
   "display_name": "Python [default]",
   "language": "python",
   "name": "python3"
  },
  "language_info": {
   "codemirror_mode": {
    "name": "ipython",
    "version": 3
   },
   "file_extension": ".py",
   "mimetype": "text/x-python",
   "name": "python",
   "nbconvert_exporter": "python",
   "pygments_lexer": "ipython3",
   "version": "3.5.6"
  }
 },
 "nbformat": 4,
 "nbformat_minor": 2
}
